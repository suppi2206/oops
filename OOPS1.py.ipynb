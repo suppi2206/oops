{
 "cells": [
  {
   "cell_type": "code",
   "execution_count": 7,
   "id": "449ad718",
   "metadata": {},
   "outputs": [
    {
     "data": {
      "text/plain": [
       "35"
      ]
     },
     "execution_count": 7,
     "metadata": {},
     "output_type": "execute_result"
    }
   ],
   "source": [
    "#Challange--1\n",
    "class Point:\n",
    "    def __init__(self,x,y,z):\n",
    "        self.x=x\n",
    "        self.y=y\n",
    "        self.z=z\n",
    "    def sqSum(self):\n",
    "            Sum=self.x**2+self.y**2+self.z**2\n",
    "            return Sum\n",
    "obj=Point(1,3,5)\n",
    "obj.sqSum()\n",
    "    \n"
   ]
  },
  {
   "cell_type": "code",
   "execution_count": 8,
   "id": "0473dbec",
   "metadata": {},
   "outputs": [
    {
     "name": "stdout",
     "output_type": "stream",
     "text": [
      "104\n",
      "84\n",
      "940\n",
      "9.4\n"
     ]
    }
   ],
   "source": [
    "#challange--2\n",
    "class Calculator:\n",
    "\n",
    "    def __init__(self ,num1,num2):\n",
    "        self.num1=num1\n",
    "        self.num2=num2\n",
    "    def add(self):\n",
    "        add=self.num1+self.num2\n",
    "        return add\n",
    "    def subtract(self):\n",
    "        subtract=self.num2-self.num1\n",
    "        return subtract\n",
    "    def multiply(self):\n",
    "        multiply=self.num1*self.num2\n",
    "        return multiply\n",
    "    def divide(self):\n",
    "        divide=self.num2/self.num1\n",
    "        return divide\n",
    "    \n",
    "\n",
    "obj = Calculator(10, 94)\n",
    "print(obj.add())\n",
    "print(obj.subtract())\n",
    "print(obj.multiply())\n",
    "print(obj.divide())\n"
   ]
  },
  {
   "cell_type": "code",
   "execution_count": 13,
   "id": "084b3054",
   "metadata": {},
   "outputs": [
    {
     "name": "stdout",
     "output_type": "stream",
     "text": [
      "priya\n",
      "setname is\n",
      "priya reddy\n",
      "19\n",
      "set rollnumber is\n",
      "19\n"
     ]
    }
   ],
   "source": [
    "#Challange-3\n",
    "class Student:\n",
    "    __name=\"priya\"\n",
    "    __rollnumber=19\n",
    "    def setName(self,name):\n",
    "        print(\"setname is\")\n",
    "        self.__name=name\n",
    "    def getName(self):\n",
    "        return self.__name\n",
    "    def setRollNumber(self,rollnumber):\n",
    "        print(\"set rollnumber is\")\n",
    "        self.__rollnumber=rollnumber\n",
    "    def getRollNumber(self):\n",
    "        return self.__rollnumber\n",
    "s=Student()\n",
    "print(s.getName())\n",
    "s.setName(\"priya reddy\")\n",
    "print(s.getName())\n",
    "print(s.getRollNumber())\n",
    "s.setRollNumber(19)\n",
    "print(s.getRollNumber())\n"
   ]
  },
  {
   "cell_type": "code",
   "execution_count": 20,
   "id": "194e8f98",
   "metadata": {},
   "outputs": [
    {
     "name": "stdout",
     "output_type": "stream",
     "text": [
      "MRS Priya your balance is : 1000\n",
      "MRS Priya  your balance is :  1000 and your intrest is :  5\n"
     ]
    }
   ],
   "source": [
    "#Challange-4\n",
    "class Account:\n",
    "    def __init__(self,title = None,balance = 0):\n",
    "        self.title = title\n",
    "        self.balance = balance\n",
    "        print(\"MRS\",str(self.title) + \" your balance is : \" +str(self.balance))\n",
    "class SavingsAccount(Account):\n",
    "    def __init__(self,title,balance,intrest):\n",
    "        super().__init__(title,balance)\n",
    "        self.intrest = intrest\n",
    "        print(\"MRS\",str(self.title) + \"  your balance is :  \" +str(self.balance)+\" and your intrest is :  \"+str(self.intrest))\n",
    "Bank1 = SavingsAccount(\"Priya\",1000,5)\n",
    "\n",
    "\n",
    "    \n",
    "        \n"
   ]
  },
  {
   "cell_type": "code",
   "execution_count": 28,
   "id": "08bed624",
   "metadata": {},
   "outputs": [
    {
     "name": "stdout",
     "output_type": "stream",
     "text": [
      "2500\n",
      "2000\n",
      "2000\n",
      "100\n"
     ]
    }
   ],
   "source": [
    "#Chalange--5\n",
    "class Account:\n",
    "    def __init__(self, title=None, balance=0):\n",
    "        self.title = title\n",
    "        self.balance = balance\n",
    "    \n",
    "    def withdraw(self, amount):\n",
    "        self.balance = self.balance - amount\n",
    "        #print(\"After withdraw your remaining balance is :\",self.balance)\n",
    "        return self.balance\n",
    "\n",
    "    def deposit(self, amount):\n",
    "        self.balance = self.balance + amount\n",
    "        #print(\"After deposit your remaining balance is :\",self.balance)\n",
    "        return self.balance\n",
    "        \n",
    "    def getBalance(self):\n",
    "        return self.balance\n",
    "\n",
    "class SavingsAccount(Account):\n",
    "    def __init__(self, title=None, balance=0, interestRate=0):\n",
    "            super().__init__(title, balance)\n",
    "            self.interestRate = interestRate\n",
    "    \n",
    "    def interestAmount(self):\n",
    "        self.interestamount = (self.interestRate*self.balance)/100 \n",
    "        return int(self.interestamount)\n",
    "\n",
    "Bank = SavingsAccount(\"Ashish\", 2000, 5)\n",
    "print(Bank.deposit(500))\n",
    "print(Bank.withdraw(500))\n",
    "print(Bank.getBalance())\n",
    "print(Bank.interestAmount())\n"
   ]
  },
  {
   "cell_type": "code",
   "execution_count": null,
   "id": "f4ab7a2e",
   "metadata": {},
   "outputs": [],
   "source": []
  }
 ],
 "metadata": {
  "kernelspec": {
   "display_name": "Python 3 (ipykernel)",
   "language": "python",
   "name": "python3"
  },
  "language_info": {
   "codemirror_mode": {
    "name": "ipython",
    "version": 3
   },
   "file_extension": ".py",
   "mimetype": "text/x-python",
   "name": "python",
   "nbconvert_exporter": "python",
   "pygments_lexer": "ipython3",
   "version": "3.10.6"
  }
 },
 "nbformat": 4,
 "nbformat_minor": 5
}
